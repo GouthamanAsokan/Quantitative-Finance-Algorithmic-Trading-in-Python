{
  "nbformat": 4,
  "nbformat_minor": 0,
  "metadata": {
    "colab": {
      "name": "Stock_Market_Basics.ipynb",
      "provenance": []
    },
    "kernelspec": {
      "name": "python3",
      "display_name": "Python 3"
    }
  },
  "cells": [
    {
      "cell_type": "code",
      "metadata": {
        "id": "O00kr6wpcqYg",
        "colab_type": "code",
        "colab": {}
      },
      "source": [
        "from math import exp"
      ],
      "execution_count": 0,
      "outputs": []
    },
    {
      "cell_type": "code",
      "metadata": {
        "id": "D2daQoBfc6Rj",
        "colab_type": "code",
        "colab": {}
      },
      "source": [
        "def discreteFutureValue(x,r,n):\n",
        "    return x * (1+r)**n"
      ],
      "execution_count": 0,
      "outputs": []
    },
    {
      "cell_type": "code",
      "metadata": {
        "id": "goarcW4Wc-XS",
        "colab_type": "code",
        "colab": {}
      },
      "source": [
        "def discretePresentValue(x,r,n):\n",
        "    return x / (1+r)**n"
      ],
      "execution_count": 0,
      "outputs": []
    },
    {
      "cell_type": "code",
      "metadata": {
        "id": "j2-Y6qXWdBcM",
        "colab_type": "code",
        "colab": {}
      },
      "source": [
        "def contFutureValue(x,r,n):\n",
        "    return x * exp(r*n)"
      ],
      "execution_count": 0,
      "outputs": []
    },
    {
      "cell_type": "code",
      "metadata": {
        "id": "uTfF-8m9dJBX",
        "colab_type": "code",
        "colab": {}
      },
      "source": [
        "def contPresentValue(x,r,n):\n",
        "    return x / exp(r*n)"
      ],
      "execution_count": 0,
      "outputs": []
    },
    {
      "cell_type": "code",
      "metadata": {
        "id": "lmAfIOfHdMCB",
        "colab_type": "code",
        "colab": {}
      },
      "source": [
        "x = 100  # value of investment in dollars\n",
        "r = .01 # interest rate\n",
        "n = 1    # years"
      ],
      "execution_count": 0,
      "outputs": []
    },
    {
      "cell_type": "code",
      "metadata": {
        "id": "1befkJWMdjla",
        "colab_type": "code",
        "colab": {
          "base_uri": "https://localhost:8080/",
          "height": 34
        },
        "outputId": "f7f2241d-c9e5-433d-b4e1-b0c714f50205"
      },
      "source": [
        "print(\"Value of $100\")"
      ],
      "execution_count": 7,
      "outputs": [
        {
          "output_type": "stream",
          "text": [
            "Value of $100\n"
          ],
          "name": "stdout"
        }
      ]
    },
    {
      "cell_type": "code",
      "metadata": {
        "id": "7UICkcv4dmxA",
        "colab_type": "code",
        "colab": {
          "base_uri": "https://localhost:8080/",
          "height": 34
        },
        "outputId": "8096c1e7-076b-44db-a34b-7e585fc955fe"
      },
      "source": [
        "print(\"Future Discrete: \", discreteFutureValue(x,r,n))"
      ],
      "execution_count": 8,
      "outputs": [
        {
          "output_type": "stream",
          "text": [
            "Future Discrete:  101.0\n"
          ],
          "name": "stdout"
        }
      ]
    },
    {
      "cell_type": "code",
      "metadata": {
        "id": "sdCu8foddqJL",
        "colab_type": "code",
        "colab": {
          "base_uri": "https://localhost:8080/",
          "height": 34
        },
        "outputId": "02574a43-dd8a-4539-c85e-d11c0703a3a4"
      },
      "source": [
        "print(\"Future Continuous: \", contFutureValue(x,r,n))"
      ],
      "execution_count": 9,
      "outputs": [
        {
          "output_type": "stream",
          "text": [
            "Future Continuous:  101.00501670841679\n"
          ],
          "name": "stdout"
        }
      ]
    },
    {
      "cell_type": "code",
      "metadata": {
        "id": "gb2qC667dtkX",
        "colab_type": "code",
        "colab": {
          "base_uri": "https://localhost:8080/",
          "height": 34
        },
        "outputId": "e8b93349-b3e4-43f4-a825-47d104d66683"
      },
      "source": [
        "print(\"Present Discrete: \", discretePresentValue(x,r,n))"
      ],
      "execution_count": 10,
      "outputs": [
        {
          "output_type": "stream",
          "text": [
            "Present Discrete:  99.00990099009901\n"
          ],
          "name": "stdout"
        }
      ]
    },
    {
      "cell_type": "code",
      "metadata": {
        "id": "hEfdVFd1dxxR",
        "colab_type": "code",
        "colab": {
          "base_uri": "https://localhost:8080/",
          "height": 34
        },
        "outputId": "b28f100c-51dc-4a0a-9351-628293b09f73"
      },
      "source": [
        "print(\"Present Continuous: \", contPresentValue(x,r,n))"
      ],
      "execution_count": 11,
      "outputs": [
        {
          "output_type": "stream",
          "text": [
            "Present Continuous:  99.00498337491682\n"
          ],
          "name": "stdout"
        }
      ]
    },
    {
      "cell_type": "code",
      "metadata": {
        "id": "ADk5RP8Id7Rn",
        "colab_type": "code",
        "colab": {}
      },
      "source": [
        "def zeroBondPrice(par_value,market_rate,n):\n",
        "    return par_value/(1+market_rate)**n"
      ],
      "execution_count": 0,
      "outputs": []
    },
    {
      "cell_type": "code",
      "metadata": {
        "id": "sQZoJvHdeY8g",
        "colab_type": "code",
        "colab": {}
      },
      "source": [
        "def bondPrice(par_value,coupon, market_Rate,n):\n",
        "    c = par_value *coupon\n",
        "    return c/market_rate*(1-(1/(1+market_rate)**n))+ par_value/(1+market_rate)**n"
      ],
      "execution_count": 0,
      "outputs": []
    },
    {
      "cell_type": "code",
      "metadata": {
        "id": "Rzscse5ie2jY",
        "colab_type": "code",
        "colab": {}
      },
      "source": [
        "par_value = 1000   # par value of the bond\n",
        "coupon = 0.05      # bond yield - coupon\n",
        "n = 3              # number of years \n",
        "market_rate = 0.04 #market rate of return"
      ],
      "execution_count": 0,
      "outputs": []
    },
    {
      "cell_type": "code",
      "metadata": {
        "id": "H7WTY-VXe_Rc",
        "colab_type": "code",
        "colab": {
          "base_uri": "https://localhost:8080/",
          "height": 34
        },
        "outputId": "6e2f11bc-d5ce-427c-d62b-dd7287137193"
      },
      "source": [
        "print(\"Price of the zero-coupon bond: $%0.2f\" % zeroBondPrice(par_value,market_rate,n))"
      ],
      "execution_count": 15,
      "outputs": [
        {
          "output_type": "stream",
          "text": [
            "Price of the zero-coupon bond: $889.00\n"
          ],
          "name": "stdout"
        }
      ]
    },
    {
      "cell_type": "code",
      "metadata": {
        "id": "NuPejt7pfJ4g",
        "colab_type": "code",
        "colab": {
          "base_uri": "https://localhost:8080/",
          "height": 34
        },
        "outputId": "8490cf13-89ff-489a-edf5-c803b008d6bf"
      },
      "source": [
        "print(\"Price of the coupon bond: $%0.2f\" % bondPrice(par_value, coupon,market_rate,n))"
      ],
      "execution_count": 16,
      "outputs": [
        {
          "output_type": "stream",
          "text": [
            "Price of the coupon bond: $1027.75\n"
          ],
          "name": "stdout"
        }
      ]
    }
  ]
}