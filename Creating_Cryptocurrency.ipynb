{
  "nbformat": 4,
  "nbformat_minor": 0,
  "metadata": {
    "colab": {
      "name": "Creating_Cryptocurrency.ipynb",
      "provenance": []
    },
    "kernelspec": {
      "name": "python3",
      "display_name": "Python 3"
    }
  },
  "cells": [
    {
      "cell_type": "code",
      "metadata": {
        "id": "LJdndpCHiq0H",
        "colab_type": "code",
        "colab": {}
      },
      "source": [
        "#Importing the libraries\n",
        "import hashlib\n",
        "import time"
      ],
      "execution_count": 0,
      "outputs": []
    },
    {
      "cell_type": "code",
      "metadata": {
        "id": "l2YT3thEkBCC",
        "colab_type": "code",
        "colab": {}
      },
      "source": [
        "class Block:\n",
        "\n",
        "    def __init__(self, index, proof_no, prev_hash, data, timestamp=None):\n",
        "        self.index = index\n",
        "        self.proof_no = proof_no\n",
        "        self.prev_hash = prev_hash\n",
        "        self.data = data\n",
        "        self.timestamp = timestamp or time.time()\n",
        "\n",
        "    @property\n",
        "    def calculate_hash(self):\n",
        "        block_of_string = \"{}{}{}{}{}\".format(self.index, self.proof_no,\n",
        "                                              self.prev_hash, self.data,\n",
        "                                              self.timestamp)\n",
        "\n",
        "        return hashlib.sha256(block_of_string.encode()).hexdigest()\n",
        "\n",
        "    def __repr__(self):\n",
        "        return \"{} - {} - {} - {} - {}\".format(self.index, self.proof_no,\n",
        "                                               self.prev_hash, self.data,\n",
        "                                               self.timestamp)"
      ],
      "execution_count": 0,
      "outputs": []
    },
    {
      "cell_type": "code",
      "metadata": {
        "id": "beNAtYLekR9W",
        "colab_type": "code",
        "colab": {}
      },
      "source": [
        "class BlockChain:\n",
        "\n",
        "    def __init__(self):\n",
        "        self.chain = []\n",
        "        self.current_data = []\n",
        "        self.nodes = set()\n",
        "        self.construct_genesis()\n",
        "\n",
        "    def construct_genesis(self):\n",
        "        self.construct_block(proof_no=0, prev_hash=0)\n",
        "\n",
        "    def construct_block(self, proof_no, prev_hash):\n",
        "        block = Block(\n",
        "            index=len(self.chain),\n",
        "            proof_no=proof_no,\n",
        "            prev_hash=prev_hash,\n",
        "            data=self.current_data)\n",
        "        self.current_data = []\n",
        "\n",
        "        self.chain.append(block)\n",
        "        return block\n",
        "\n",
        "    @staticmethod\n",
        "    def check_validity(block, prev_block):\n",
        "        if prev_block.index + 1 != block.index:\n",
        "            return False\n",
        "\n",
        "        elif prev_block.calculate_hash != block.prev_hash:\n",
        "            return False\n",
        "\n",
        "        elif not BlockChain.verifying_proof(block.proof_no,\n",
        "                                            prev_block.proof_no):\n",
        "            return False\n",
        "\n",
        "        elif block.timestamp <= prev_block.timestamp:\n",
        "            return False\n",
        "\n",
        "        return True\n",
        "\n",
        "    def new_data(self, sender, recipient, quantity):\n",
        "        self.current_data.append({\n",
        "            'sender': sender,\n",
        "            'recipient': recipient,\n",
        "            'quantity': quantity\n",
        "        })\n",
        "        return True\n",
        "\n",
        "    @staticmethod\n",
        "    def proof_of_work(last_proof):\n",
        "        '''this simple algorithm identifies a number f' such that hash(ff') contain 4 leading zeroes\n",
        "         f is the previous f'\n",
        "         f' is the new proof\n",
        "        '''\n",
        "        proof_no = 0\n",
        "        while BlockChain.verifying_proof(proof_no, last_proof) is False:\n",
        "            proof_no += 1\n",
        "\n",
        "        return proof_no\n",
        "\n",
        "    @staticmethod\n",
        "    def verifying_proof(last_proof, proof):\n",
        "        #verifying the proof: does hash(last_proof, proof) contain 4 leading zeroes?\n",
        "\n",
        "        guess = f'{last_proof}{proof}'.encode()\n",
        "        guess_hash = hashlib.sha256(guess).hexdigest()\n",
        "        return guess_hash[:4] == \"0000\"\n",
        "\n",
        "    @property\n",
        "    def latest_block(self):\n",
        "        return self.chain[-1]\n",
        "\n",
        "    def block_mining(self, details_miner):\n",
        "\n",
        "        self.new_data(\n",
        "            sender=\"0\",  #it implies that this node has created a new block\n",
        "            receiver=details_miner,\n",
        "            quantity=\n",
        "            1,  #creating a new block (or identifying the proof number) is awarded with 1\n",
        "        )\n",
        "\n",
        "        last_block = self.latest_block\n",
        "\n",
        "        last_proof_no = last_block.proof_no\n",
        "        proof_no = self.proof_of_work(last_proof_no)\n",
        "\n",
        "        last_hash = last_block.calculate_hash\n",
        "        block = self.construct_block(proof_no, last_hash)\n",
        "\n",
        "        return vars(block)\n",
        "\n",
        "    def create_node(self, address):\n",
        "        self.nodes.add(address)\n",
        "        return True\n",
        "\n",
        "    @staticmethod\n",
        "    def obtain_block_object(block_data):\n",
        "        #obtains block object from the block data\n",
        "\n",
        "        return Block(\n",
        "            block_data['index'],\n",
        "            block_data['proof_no'],\n",
        "            block_data['prev_hash'],\n",
        "            block_data['data'],\n",
        "            timestamp=block_data['timestamp'])"
      ],
      "execution_count": 0,
      "outputs": []
    },
    {
      "cell_type": "code",
      "metadata": {
        "id": "muhSnd72lLNS",
        "colab_type": "code",
        "colab": {}
      },
      "source": [
        "blockchain = BlockChain()"
      ],
      "execution_count": 0,
      "outputs": []
    },
    {
      "cell_type": "code",
      "metadata": {
        "id": "t8lNvMtwlQQc",
        "colab_type": "code",
        "colab": {
          "base_uri": "https://localhost:8080/",
          "height": 51
        },
        "outputId": "972eb8b2-5be7-4252-9e27-d5b9e65ac317"
      },
      "source": [
        "print(\"***Mining fccCoin about to start***\")\n",
        "print(blockchain.chain)"
      ],
      "execution_count": 5,
      "outputs": [
        {
          "output_type": "stream",
          "text": [
            "***Mining fccCoin about to start***\n",
            "[0 - 0 - 0 - [] - 1587788708.0795195]\n"
          ],
          "name": "stdout"
        }
      ]
    },
    {
      "cell_type": "code",
      "metadata": {
        "id": "mB0tDYjPlT4M",
        "colab_type": "code",
        "colab": {}
      },
      "source": [
        "last_block = blockchain.latest_block\n",
        "last_proof_no = last_block.proof_no\n",
        "proof_no = blockchain.proof_of_work(last_proof_no)"
      ],
      "execution_count": 0,
      "outputs": []
    },
    {
      "cell_type": "code",
      "metadata": {
        "id": "cCPC05oClzGN",
        "colab_type": "code",
        "colab": {
          "base_uri": "https://localhost:8080/",
          "height": 34
        },
        "outputId": "f71605ec-36a2-4364-bc2c-a242c0b475fb"
      },
      "source": [
        "blockchain.new_data(\n",
        "    sender=\"0\",  #it implies that this node has created a new block\n",
        "    recipient=\"Quincy Larson\",  #let's send Quincy some coins!\n",
        "    quantity=\n",
        "    1,  #creating a new block (or identifying the proof number) is awarded with 1\n",
        ")"
      ],
      "execution_count": 7,
      "outputs": [
        {
          "output_type": "execute_result",
          "data": {
            "text/plain": [
              "True"
            ]
          },
          "metadata": {
            "tags": []
          },
          "execution_count": 7
        }
      ]
    },
    {
      "cell_type": "code",
      "metadata": {
        "id": "MEHVx-HZl75z",
        "colab_type": "code",
        "colab": {}
      },
      "source": [
        "last_hash = last_block.calculate_hash\n",
        "block = blockchain.construct_block(proof_no, last_hash)"
      ],
      "execution_count": 0,
      "outputs": []
    },
    {
      "cell_type": "code",
      "metadata": {
        "id": "F16ayxxUmBFy",
        "colab_type": "code",
        "colab": {
          "base_uri": "https://localhost:8080/",
          "height": 71
        },
        "outputId": "c0143ea0-a766-470d-cf10-d5096ff3c4aa"
      },
      "source": [
        "print(\"***Mining fccCoin has been successful***\")\n",
        "print(blockchain.chain)"
      ],
      "execution_count": 9,
      "outputs": [
        {
          "output_type": "stream",
          "text": [
            "***Mining fccCoin has been successful***\n",
            "[0 - 0 - 0 - [] - 1587788708.0795195, 1 - 88914 - 5fa28db8ca554a696704e509b09268c2bea9f568b69bcdddd1678ef08116ec8e - [{'sender': '0', 'recipient': 'Quincy Larson', 'quantity': 1}] - 1587788906.3713653]\n"
          ],
          "name": "stdout"
        }
      ]
    }
  ]
}